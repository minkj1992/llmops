{
 "cells": [
  {
   "cell_type": "code",
   "execution_count": 1,
   "metadata": {},
   "outputs": [],
   "source": [
    "import collections\n",
    "import re"
   ]
  },
  {
   "cell_type": "code",
   "execution_count": 36,
   "metadata": {
    "scrolled": true
   },
   "outputs": [
    {
     "name": "stdout",
     "output_type": "stream",
     "text": [
      "1th iteration\n",
      "현재 pair들의 빈도수: {('l', 'o'): 7, ('o', 'w'): 7, ('w', '</w>'): 5, ('w', 'e'): 8, ('e', 'r'): 2, ('r', '</w>'): 2, ('n', 'e'): 6, ('e', 'w'): 6, ('e', 's'): 9, ('s', 't'): 9, ('t', '</w>'): 9, ('w', 'i'): 3, ('i', 'd'): 3, ('d', 'e'): 3}\n",
      "new merge: ('e', 's')\n",
      "(\"vocabs: {'l o w </w>': 5, 'l o w e r </w>': 2, 'n e w es t </w>': 6, 'w i d \"\n",
      " \"es t </w>': 3}\")\n",
      "2th iteration\n",
      "현재 pair들의 빈도수: {('l', 'o'): 7, ('o', 'w'): 7, ('w', '</w>'): 5, ('w', 'e'): 2, ('e', 'r'): 2, ('r', '</w>'): 2, ('n', 'e'): 6, ('e', 'w'): 6, ('w', 'es'): 6, ('es', 't'): 9, ('t', '</w>'): 9, ('w', 'i'): 3, ('i', 'd'): 3, ('d', 'es'): 3}\n",
      "new merge: ('es', 't')\n",
      "(\"vocabs: {'l o w </w>': 5, 'l o w e r </w>': 2, 'n e w est </w>': 6, 'w i d \"\n",
      " \"est </w>': 3}\")\n",
      "3th iteration\n",
      "현재 pair들의 빈도수: {('l', 'o'): 7, ('o', 'w'): 7, ('w', '</w>'): 5, ('w', 'e'): 2, ('e', 'r'): 2, ('r', '</w>'): 2, ('n', 'e'): 6, ('e', 'w'): 6, ('w', 'est'): 6, ('est', '</w>'): 9, ('w', 'i'): 3, ('i', 'd'): 3, ('d', 'est'): 3}\n",
      "new merge: ('est', '</w>')\n",
      "(\"vocabs: {'l o w </w>': 5, 'l o w e r </w>': 2, 'n e w est</w>': 6, 'w i d \"\n",
      " \"est</w>': 3}\")\n",
      "4th iteration\n",
      "현재 pair들의 빈도수: {('l', 'o'): 7, ('o', 'w'): 7, ('w', '</w>'): 5, ('w', 'e'): 2, ('e', 'r'): 2, ('r', '</w>'): 2, ('n', 'e'): 6, ('e', 'w'): 6, ('w', 'est</w>'): 6, ('w', 'i'): 3, ('i', 'd'): 3, ('d', 'est</w>'): 3}\n",
      "new merge: ('l', 'o')\n",
      "(\"vocabs: {'lo w </w>': 5, 'lo w e r </w>': 2, 'n e w est</w>': 6, 'w i d \"\n",
      " \"est</w>': 3}\")\n",
      "5th iteration\n",
      "현재 pair들의 빈도수: {('lo', 'w'): 7, ('w', '</w>'): 5, ('w', 'e'): 2, ('e', 'r'): 2, ('r', '</w>'): 2, ('n', 'e'): 6, ('e', 'w'): 6, ('w', 'est</w>'): 6, ('w', 'i'): 3, ('i', 'd'): 3, ('d', 'est</w>'): 3}\n",
      "new merge: ('lo', 'w')\n",
      "(\"vocabs: {'low </w>': 5, 'low e r </w>': 2, 'n e w est</w>': 6, 'w i d \"\n",
      " \"est</w>': 3}\")\n",
      "6th iteration\n",
      "현재 pair들의 빈도수: {('low', '</w>'): 5, ('low', 'e'): 2, ('e', 'r'): 2, ('r', '</w>'): 2, ('n', 'e'): 6, ('e', 'w'): 6, ('w', 'est</w>'): 6, ('w', 'i'): 3, ('i', 'd'): 3, ('d', 'est</w>'): 3}\n",
      "new merge: ('n', 'e')\n",
      "(\"vocabs: {'low </w>': 5, 'low e r </w>': 2, 'ne w est</w>': 6, 'w i d \"\n",
      " \"est</w>': 3}\")\n",
      "7th iteration\n",
      "현재 pair들의 빈도수: {('low', '</w>'): 5, ('low', 'e'): 2, ('e', 'r'): 2, ('r', '</w>'): 2, ('ne', 'w'): 6, ('w', 'est</w>'): 6, ('w', 'i'): 3, ('i', 'd'): 3, ('d', 'est</w>'): 3}\n",
      "new merge: ('ne', 'w')\n",
      "(\"vocabs: {'low </w>': 5, 'low e r </w>': 2, 'new est</w>': 6, 'w i d \"\n",
      " \"est</w>': 3}\")\n",
      "8th iteration\n",
      "현재 pair들의 빈도수: {('low', '</w>'): 5, ('low', 'e'): 2, ('e', 'r'): 2, ('r', '</w>'): 2, ('new', 'est</w>'): 6, ('w', 'i'): 3, ('i', 'd'): 3, ('d', 'est</w>'): 3}\n",
      "new merge: ('new', 'est</w>')\n",
      "(\"vocabs: {'low </w>': 5, 'low e r </w>': 2, 'newest</w>': 6, 'w i d est</w>': \"\n",
      " '3}')\n",
      "9th iteration\n",
      "현재 pair들의 빈도수: {('low', '</w>'): 5, ('low', 'e'): 2, ('e', 'r'): 2, ('r', '</w>'): 2, ('w', 'i'): 3, ('i', 'd'): 3, ('d', 'est</w>'): 3}\n",
      "new merge: ('low', '</w>')\n",
      "\"vocabs: {'low</w>': 5, 'low e r </w>': 2, 'newest</w>': 6, 'w i d est</w>': 3}\"\n",
      "10th iteration\n",
      "현재 pair들의 빈도수: {('low', 'e'): 2, ('e', 'r'): 2, ('r', '</w>'): 2, ('w', 'i'): 3, ('i', 'd'): 3, ('d', 'est</w>'): 3}\n",
      "new merge: ('w', 'i')\n",
      "\"vocabs: {'low</w>': 5, 'low e r </w>': 2, 'newest</w>': 6, 'wi d est</w>': 3}\"\n"
     ]
    },
    {
     "data": {
      "text/plain": [
       "'end'"
      ]
     },
     "execution_count": 36,
     "metadata": {},
     "output_type": "execute_result"
    }
   ],
   "source": [
    "def get_pairs(vocabs: dict[str,int])->dict[str, int]:\n",
    "    pairs = collections.defaultdict(int)\n",
    "    for word, freq in vocabs.items():\n",
    "        symbols = word.split()\n",
    "        for i in range(len(symbols)-1):\n",
    "            tup_pair = symbols[i], symbols[i+1]\n",
    "            pairs[tup_pair] += freq\n",
    "    return pairs\n",
    "\n",
    "def merge(vocabs: dict[str,int], voc:tuple[str, str]):\n",
    "    result = {}\n",
    "    bigram = re.escape(' '.join(voc))\n",
    "    # (?<!) negative look behind\n",
    "    # (?!) negative look ahead\n",
    "    # \\S, 공백, 탭, 줄바꿈이 아닌 모든 문자\n",
    "    p = re.compile(r'(?<!\\S)' + bigram + r'(?!\\S)')\n",
    "    for word in vocabs:\n",
    "        w_out = p.sub(''.join(voc), word)\n",
    "        result[w_out] = vocabs[word]\n",
    "    return result\n",
    "                      \n",
    "     \n",
    "from pprint import pprint\n",
    "def log(i, pairs, best, vocabs):\n",
    "    print(f'{i+1}th iteration')\n",
    "    print(f'현재 pair들의 빈도수: {dict(pairs)}')\n",
    "    print(f'new merge: {best}')\n",
    "    pprint(f'vocabs: {vocabs}')\n",
    "\n",
    "def bypte_pair_encoding(vocabs, n):\n",
    "    for i in range(n):\n",
    "        pairs = get_pairs(vocabs)\n",
    "        most_common_vocab = max(pairs, key=pairs.get)\n",
    "        vocabs = merge(vocabs, most_common_vocab)\n",
    "        log(i, pairs, most_common_vocab, vocabs)\n",
    "    return vocabs\n",
    "\n",
    "\n",
    "dictionary = {'l o w </w>' : 5,\n",
    "         'l o w e r </w>' : 2,\n",
    "         'n e w e s t </w>':6,\n",
    "         'w i d e s t </w>':3\n",
    "         }\n",
    "n = 10\n",
    "bypte_pair_encoding(dictionary, n)\n",
    "'end'"
   ]
  },
  {
   "cell_type": "code",
   "execution_count": null,
   "metadata": {},
   "outputs": [],
   "source": []
  }
 ],
 "metadata": {
  "kernelspec": {
   "display_name": "Python 3 (ipykernel)",
   "language": "python",
   "name": "python3"
  },
  "language_info": {
   "codemirror_mode": {
    "name": "ipython",
    "version": 3
   },
   "file_extension": ".py",
   "mimetype": "text/x-python",
   "name": "python",
   "nbconvert_exporter": "python",
   "pygments_lexer": "ipython3",
   "version": "3.9.16"
  }
 },
 "nbformat": 4,
 "nbformat_minor": 4
}
